{
 "cells": [
  {
   "cell_type": "markdown",
   "metadata": {},
   "source": [
    "## Evaluating full test set performance"
   ]
  },
  {
   "cell_type": "code",
   "execution_count": 1,
   "metadata": {},
   "outputs": [],
   "source": [
    "import torch\n",
    "#from torch.autograd import Variable\n",
    "from capsnet import CapsNet\n",
    "import utils\n",
    "USE_GPU = False \n",
    "datasets = ['MNIST', 'FashionMNIST']"
   ]
  },
  {
   "cell_type": "markdown",
   "metadata": {},
   "source": [
    "### Load model and weights from past training"
   ]
  },
  {
   "cell_type": "code",
   "execution_count": 2,
   "metadata": {},
   "outputs": [],
   "source": [
    "model = CapsNet(n_conv_channel=256,\n",
    "                n_primary_caps=8,\n",
    "                primary_cap_size=1152,\n",
    "                output_unit_size=16,\n",
    "                n_routing_iter=3)"
   ]
  },
  {
   "cell_type": "code",
   "execution_count": 3,
   "metadata": {},
   "outputs": [],
   "source": [
    "def test(epoch, model, dataloader):\n",
    "    accs = []\n",
    "    losses = []\n",
    "    model.eval()\n",
    "\n",
    "    for i, (X, y) in enumerate(dataloader):\n",
    "        target = utils.one_hot(y, model.final_caps.n_unit)\n",
    "\n",
    "        #X, target = Variable(X), Variable(target)\n",
    "        if USE_GPU:\n",
    "            X, target = X.cuda(), target.cuda()\n",
    "\n",
    "        y_hat = model(X)\n",
    "        loss = model.loss(y_hat, target)\n",
    "\n",
    "        preds = model.capsule_prediction(y_hat)\n",
    "        acc = utils.categorical_accuracy(y.float(), preds.cpu().data)\n",
    "        \n",
    "        accs.append(acc)\n",
    "        losses.append(loss.data.item())        \n",
    "    return accs, losses"
   ]
  },
  {
   "cell_type": "raw",
   "metadata": {},
   "source": []
  },
  {
   "cell_type": "markdown",
   "metadata": {},
   "source": [
    "### Test on MNIST"
   ]
  },
  {
   "cell_type": "code",
   "execution_count": 4,
   "metadata": {},
   "outputs": [
    {
     "name": "stdout",
     "output_type": "stream",
     "text": [
      "MNIST\n"
     ]
    }
   ],
   "source": [
    "model.load_state_dict(torch.load('./checkpoints/mnist_capsnet_50_epoch.pth', map_location='cpu'))\n",
    "model.eval()\n",
    "model = model.cuda() if USE_GPU else model\n",
    "input_data = {'data':datasets[0], 'download':False}\n",
    "trainloader, testloader = utils.mnist_dataloaders('./data', use_cuda=USE_GPU, **input_data)"
   ]
  },
  {
   "cell_type": "code",
   "execution_count": 5,
   "metadata": {
    "scrolled": true
   },
   "outputs": [
    {
     "name": "stderr",
     "output_type": "stream",
     "text": [
      "F:\\INM705-2022\\Labs\\capsulenet-master\\capsulenet-master\\capsule_layer.py:88: UserWarning: Implicit dimension choice for softmax has been deprecated. Change the call to include dim=X as an argument.\n",
      "  c_ij = F.softmax(b_ij)\n",
      "F:\\INM705-2022\\Labs\\capsulenet-master\\capsulenet-master\\capsnet.py:83: UserWarning: Implicit dimension choice for softmax has been deprecated. Change the call to include dim=X as an argument.\n",
      "  dim=2, keepdim=True)).view(-1, 10)\n"
     ]
    }
   ],
   "source": [
    "accs, losses = test(1, model, testloader)"
   ]
  },
  {
   "cell_type": "code",
   "execution_count": 6,
   "metadata": {},
   "outputs": [],
   "source": [
    "accs, losses = torch.Tensor(accs), torch.Tensor(losses)"
   ]
  },
  {
   "cell_type": "markdown",
   "metadata": {},
   "source": [
    "### Average accuracy and loss over the entire test set"
   ]
  },
  {
   "cell_type": "code",
   "execution_count": 7,
   "metadata": {},
   "outputs": [
    {
     "data": {
      "text/plain": [
       "tensor(0.9901)"
      ]
     },
     "execution_count": 7,
     "metadata": {},
     "output_type": "execute_result"
    }
   ],
   "source": [
    "accs.mean()"
   ]
  },
  {
   "cell_type": "code",
   "execution_count": 8,
   "metadata": {},
   "outputs": [
    {
     "name": "stdout",
     "output_type": "stream",
     "text": [
      "Accuracy: 99.011% Loss: 0.03029\n"
     ]
    }
   ],
   "source": [
    "print('Accuracy: {:.3f}% Loss: {:.5f}'.format(100*accs.mean(), losses.mean()))"
   ]
  },
  {
   "cell_type": "markdown",
   "metadata": {},
   "source": [
    "### Test on Fashion MNIST"
   ]
  },
  {
   "cell_type": "code",
   "execution_count": 9,
   "metadata": {},
   "outputs": [
    {
     "name": "stdout",
     "output_type": "stream",
     "text": [
      "FashionMNIST\n",
      "FashionMNIST\n"
     ]
    }
   ],
   "source": [
    "model = CapsNet(n_conv_channel=256,\n",
    "                n_primary_caps=8,\n",
    "                primary_cap_size=1152,\n",
    "                output_unit_size=16,\n",
    "                n_routing_iter=3)\n",
    "model.load_state_dict(torch.load('./checkpoints/fmnist_capsnet_50_epoch.pth', map_location='cpu'))\n",
    "model.eval()\n",
    "model = model.cuda() if USE_GPU else model\n",
    "input_data = {'data':datasets[1], 'download':False}\n",
    "trainloader, testloader = utils.mnist_dataloaders('./data', use_cuda=USE_GPU, **input_data)"
   ]
  },
  {
   "cell_type": "code",
   "execution_count": 10,
   "metadata": {
    "scrolled": false
   },
   "outputs": [
    {
     "name": "stdout",
     "output_type": "stream",
     "text": [
      "Accuracy: 88.904% Loss: 0.16416\n"
     ]
    }
   ],
   "source": [
    "accs, losses = test(1, model, testloader)\n",
    "accs, losses = torch.Tensor(accs), torch.Tensor(losses)\n",
    "print('Accuracy: {:.3f}% Loss: {:.5f}'.format(100*accs.mean(), losses.mean()))"
   ]
  },
  {
   "cell_type": "code",
   "execution_count": null,
   "metadata": {},
   "outputs": [],
   "source": []
  }
 ],
 "metadata": {
  "kernelspec": {
   "display_name": "Python 3",
   "language": "python",
   "name": "python3"
  },
  "language_info": {
   "codemirror_mode": {
    "name": "ipython",
    "version": 3
   },
   "file_extension": ".py",
   "mimetype": "text/x-python",
   "name": "python",
   "nbconvert_exporter": "python",
   "pygments_lexer": "ipython3",
   "version": "3.6.8"
  }
 },
 "nbformat": 4,
 "nbformat_minor": 2
}
