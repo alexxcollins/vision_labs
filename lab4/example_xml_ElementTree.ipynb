{
 "cells": [
  {
   "cell_type": "code",
   "execution_count": 1,
   "id": "4750b0b5-a5af-4beb-ab10-487cec965878",
   "metadata": {},
   "outputs": [],
   "source": [
    "import xml.etree.ElementTree as ET\n",
    "from pathlib import Path"
   ]
  },
  {
   "cell_type": "code",
   "execution_count": 4,
   "id": "9a007113-7c79-45cf-97e0-0c5c32a4f09b",
   "metadata": {},
   "outputs": [],
   "source": [
    "xml_dir = Path('annotations')\n",
    "xml_list = sorted(xml_dir.iterdir())"
   ]
  },
  {
   "cell_type": "markdown",
   "id": "ec6d95de-3315-4441-b43e-f62dc3f3f49a",
   "metadata": {},
   "source": [
    "Example of xml file:\n",
    "\n",
    "\"\"\"<annotation>\n",
    "\t<folder>VOC2012</folder>\n",
    "\t<filename>2007_000032.jpg</filename>\n",
    "\t<source>\n",
    "\t\t<database>The VOC2007 Database</database>\n",
    "\t\t<annotation>PASCAL VOC2007</annotation>\n",
    "\t\t<image>flickr</image>\n",
    "\t</source>\n",
    "\t<size>\n",
    "\t\t<width>500</width>\n",
    "\t\t<height>281</height>\n",
    "\t\t<depth>3</depth>\n",
    "\t</size>\n",
    "\t<segmented>1</segmented>\n",
    "\t<object>\n",
    "\t\t<name>aeroplane</name>\n",
    "\t\t<pose>Frontal</pose>\n",
    "\t\t<truncated>0</truncated>\n",
    "\t\t<difficult>0</difficult>\n",
    "\t\t<bndbox>\n",
    "\t\t\t<xmin>104</xmin>\n",
    "\t\t\t<ymin>78</ymin>\n",
    "\t\t\t<xmax>375</xmax>\n",
    "\t\t\t<ymax>183</ymax>\n",
    "\t\t</bndbox>\n",
    "\t</object>\n",
    "\t<object>\n",
    "\t\t<name>aeroplane</name>\n",
    "\t\t<pose>Left</pose>\n",
    "\t\t<truncated>0</truncated>\n",
    "\t\t<difficult>0</difficult>\n",
    "\t\t<bndbox>\n",
    "\t\t\t<xmin>133</xmin>\n",
    "\t\t\t<ymin>88</ymin>\n",
    "\t\t\t<xmax>197</xmax>\n",
    "\t\t\t<ymax>123</ymax>\n",
    "\t\t</bndbox>\n",
    "\t</object>\n",
    "\t<object>\n",
    "\t\t<name>person</name>\n",
    "\t\t<pose>Rear</pose>\n",
    "\t\t<truncated>0</truncated>\n",
    "\t\t<difficult>0</difficult>\n",
    "\t\t<bndbox>\n",
    "\t\t\t<xmin>195</xmin>\n",
    "\t\t\t<ymin>180</ymin>\n",
    "\t\t\t<xmax>213</xmax>\n",
    "\t\t\t<ymax>229</ymax>\n",
    "\t\t</bndbox>\n",
    "\t</object>\n",
    "\t<object>\n",
    "\t\t<name>person</name>\n",
    "\t\t<pose>Rear</pose>\n",
    "\t\t<truncated>0</truncated>\n",
    "\t\t<difficult>0</difficult>\n",
    "\t\t<bndbox>\n",
    "\t\t\t<xmin>26</xmin>\n",
    "\t\t\t<ymin>189</ymin>\n",
    "\t\t\t<xmax>44</xmax>\n",
    "\t\t\t<ymax>238</ymax>\n",
    "\t\t</bndbox>\n",
    "\t</object>\n",
    "</annotation>\"\"\""
   ]
  },
  {
   "cell_type": "code",
   "execution_count": 12,
   "id": "531a9858-b784-460a-94d7-59797b9843ac",
   "metadata": {},
   "outputs": [
    {
     "data": {
      "text/plain": [
       "False"
      ]
     },
     "execution_count": 12,
     "metadata": {},
     "output_type": "execute_result"
    }
   ],
   "source": [
    "tree = ET.parse(xml_list[1])\n",
    "\n",
    "root = tree.getroot()\n",
    "\n",
    "root2 = ET.fromstring(xml_list[1].read_text())\n",
    "\n",
    "root == root2"
   ]
  },
  {
   "cell_type": "code",
   "execution_count": 13,
   "id": "85c4f357-4fab-4417-b2ce-d17a0f7b1bff",
   "metadata": {},
   "outputs": [
    {
     "data": {
      "text/plain": [
       "<Element 'annotation' at 0x1070e3130>"
      ]
     },
     "execution_count": 13,
     "metadata": {},
     "output_type": "execute_result"
    }
   ],
   "source": [
    "root"
   ]
  },
  {
   "cell_type": "code",
   "execution_count": 14,
   "id": "bdfe6ec1-6d27-43f9-b06b-a2128c1f9472",
   "metadata": {},
   "outputs": [
    {
     "data": {
      "text/plain": [
       "<Element 'annotation' at 0x107137860>"
      ]
     },
     "execution_count": 14,
     "metadata": {},
     "output_type": "execute_result"
    }
   ],
   "source": [
    "root2"
   ]
  },
  {
   "cell_type": "code",
   "execution_count": 15,
   "id": "d1b2e4b7-3e88-42f4-be6c-c1b9297b451e",
   "metadata": {},
   "outputs": [
    {
     "name": "stdout",
     "output_type": "stream",
     "text": [
      "folder {}\n",
      "filename {}\n",
      "source {}\n",
      "size {}\n",
      "segmented {}\n",
      "object {}\n",
      "object {}\n",
      "object {}\n",
      "object {}\n",
      "\n",
      "folder {}\n",
      "filename {}\n",
      "source {}\n",
      "size {}\n",
      "segmented {}\n",
      "object {}\n",
      "object {}\n",
      "object {}\n",
      "object {}\n"
     ]
    }
   ],
   "source": [
    "for child in root:\n",
    "    print(child.tag, child.attrib)\n",
    "print('')\n",
    "for child in root2:\n",
    "    print(child.tag, child.attrib)"
   ]
  },
  {
   "cell_type": "code",
   "execution_count": 23,
   "id": "7b16a654-df50-4914-8442-48bcf51d0dc9",
   "metadata": {
    "collapsed": true,
    "jupyter": {
     "outputs_hidden": true
    },
    "tags": []
   },
   "outputs": [
    {
     "name": "stdout",
     "output_type": "stream",
     "text": [
      "-----\n",
      "aeroplane\n",
      "-----\n",
      "aeroplane\n",
      "-----\n",
      "person\n",
      "-----\n",
      "person\n",
      "xmin\n",
      "ymin\n",
      "xmax\n",
      "ymax\n",
      "xmin\n",
      "ymin\n",
      "xmax\n",
      "ymax\n",
      "xmin\n",
      "ymin\n",
      "xmax\n",
      "ymax\n",
      "xmin\n",
      "ymin\n",
      "xmax\n",
      "ymax\n"
     ]
    }
   ],
   "source": [
    "for name in root.iter('name'):\n",
    "    print(name.text)\n",
    "for bbox in root.iter('bndbox'):\n",
    "    for child in bbox:\n",
    "        print(child.tag)"
   ]
  },
  {
   "cell_type": "code",
   "execution_count": 26,
   "id": "bd31914a-dd04-4daa-bbb9-6785e8c095c8",
   "metadata": {},
   "outputs": [
    {
     "name": "stdout",
     "output_type": "stream",
     "text": [
      "aeroplane\n",
      "xmin\n",
      "104\n",
      "ymin\n",
      "78\n",
      "xmax\n",
      "375\n",
      "ymax\n",
      "183\n",
      "aeroplane\n",
      "xmin\n",
      "133\n",
      "ymin\n",
      "88\n",
      "xmax\n",
      "197\n",
      "ymax\n",
      "123\n",
      "person\n",
      "xmin\n",
      "195\n",
      "ymin\n",
      "180\n",
      "xmax\n",
      "213\n",
      "ymax\n",
      "229\n",
      "person\n",
      "xmin\n",
      "26\n",
      "ymin\n",
      "189\n",
      "xmax\n",
      "44\n",
      "ymax\n",
      "238\n"
     ]
    }
   ],
   "source": [
    "dims = ['xmin', 'ymin']\n",
    "for obj in root.iter('object'):\n",
    "    name = obj.find('name').text\n",
    "    print(name)\n",
    "    bbox = obj.find('bndbox')\n",
    "    # ddict = {}\n",
    "    # for d in dims:\n",
    "    #     dim = bbox.find(d)\n",
    "    #     print(dim.tag)\n",
    "    #     print(dim.text)\n",
    "    for child in bbox:\n",
    "        print(child.tag)\n",
    "        print(child.text)"
   ]
  },
  {
   "cell_type": "code",
   "execution_count": 30,
   "id": "6e805e01-6a6a-4842-90df-8d78cb7b9906",
   "metadata": {},
   "outputs": [],
   "source": [
    "pascal_object_categories = ['__bgr__', 'aeroplane', 'bicycle', 'bird', 'boat',\n",
    "                     'bottle', 'bus', 'car', 'cat', 'chair',\n",
    "                      'cow', 'diningtable', 'dog', 'horse',\n",
    "                      'motorbike', 'person', 'pottedplant',\n",
    "                     'sheep', 'sofa', 'train', 'tvmonitor']\n",
    "\n",
    "pascal_voc_classes = dict(zip(pascal_object_categories,\n",
    "                              range(len(pascal_object_categories))))\n",
    "\n",
    "list_of_classes = pascal_voc_classes"
   ]
  },
  {
   "cell_type": "code",
   "execution_count": 34,
   "id": "8c291e27-d8f8-4870-87ca-06e3c8cfaf5d",
   "metadata": {},
   "outputs": [],
   "source": [
    ".\n",
    "classes = []\n",
    "bboxes = []\n",
    "\n",
    "dims = ['xmin', 'ymin', 'xmax', 'ymax']\n",
    "for obj in root.iter('object'):\n",
    "    name = obj.find('name').text\n",
    "    # some classes not in Pascal VOC data set (e.g.head)\n",
    "    if name in list_of_classes.keys():\n",
    "        classes.append(name)\n",
    "        # now create bbox list\n",
    "        bb = []\n",
    "        bndbox = obj.find('bndbox')\n",
    "        for dim in dims:\n",
    "            bb.append(float(bndbox.find(dim).text))\n",
    "        bboxes.append(bb)"
   ]
  },
  {
   "cell_type": "code",
   "execution_count": 35,
   "id": "8676a9f7-4318-4f0b-964e-55d82e44314b",
   "metadata": {},
   "outputs": [
    {
     "data": {
      "text/plain": [
       "['aeroplane', 'aeroplane', 'person', 'person']"
      ]
     },
     "execution_count": 35,
     "metadata": {},
     "output_type": "execute_result"
    }
   ],
   "source": [
    "classes"
   ]
  },
  {
   "cell_type": "code",
   "execution_count": 36,
   "id": "23413ce6-2048-42b9-89f3-373926dbd597",
   "metadata": {},
   "outputs": [
    {
     "data": {
      "text/plain": [
       "[[104.0, 78.0, 375.0, 183.0],\n",
       " [133.0, 88.0, 197.0, 123.0],\n",
       " [195.0, 180.0, 213.0, 229.0],\n",
       " [26.0, 189.0, 44.0, 238.0]]"
      ]
     },
     "execution_count": 36,
     "metadata": {},
     "output_type": "execute_result"
    }
   ],
   "source": [
    "bboxes"
   ]
  },
  {
   "cell_type": "code",
   "execution_count": null,
   "id": "c42440fd-3f4a-4a45-a30e-e6e17f12dccf",
   "metadata": {},
   "outputs": [],
   "source": []
  }
 ],
 "metadata": {
  "kernelspec": {
   "display_name": "Python 3 (ipykernel)",
   "language": "python",
   "name": "python3"
  },
  "language_info": {
   "codemirror_mode": {
    "name": "ipython",
    "version": 3
   },
   "file_extension": ".py",
   "mimetype": "text/x-python",
   "name": "python",
   "nbconvert_exporter": "python",
   "pygments_lexer": "ipython3",
   "version": "3.8.10"
  }
 },
 "nbformat": 4,
 "nbformat_minor": 5
}
