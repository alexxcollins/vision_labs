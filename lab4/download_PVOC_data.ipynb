{
 "cells": [
  {
   "cell_type": "markdown",
   "id": "ebfd4196-56a3-469f-b596-6fa743973cf6",
   "metadata": {},
   "source": [
    "# Download and prepare PascalVOC data\n",
    "\n",
    "Idea is to reproduce what Alex has done in Hyperion - putting test, train, val images into folders.\n",
    "\n",
    "I will replicate bounding box and other data as I come to the labs"
   ]
  },
  {
   "cell_type": "code",
   "execution_count": 16,
   "id": "5097a9a3-edd4-4749-b9ba-389fffc19c70",
   "metadata": {},
   "outputs": [],
   "source": [
    "from pathlib import Path as Path\n",
    "import re\n",
    "from torch.utils import data as data\n",
    "from PIL import Image as PILImage\n",
    "import torch\n",
    "from torchvision.datasets import VOCDetection"
   ]
  },
  {
   "cell_type": "markdown",
   "id": "4f502894-4197-476d-802b-7577dae60386",
   "metadata": {},
   "source": [
    "Download the VOC dataset"
   ]
  },
  {
   "cell_type": "code",
   "execution_count": 2,
   "id": "c45fbc28-1799-4c85-85d7-656b556b1149",
   "metadata": {},
   "outputs": [
    {
     "name": "stdout",
     "output_type": "stream",
     "text": [
      "Using downloaded and verified file: ../data/PascalVOC/VOCtrainval_11-May-2012.tar\n",
      "Extracting ../data/PascalVOC/VOCtrainval_11-May-2012.tar to ../data/PascalVOC\n"
     ]
    }
   ],
   "source": [
    "data = VOCDetection(root='../data/PascalVOC',download=True)"
   ]
  },
  {
   "cell_type": "markdown",
   "id": "e2bb2071-1eaf-42f6-92df-bbdc6e7d38eb",
   "metadata": {},
   "source": [
    "Create a list of all the PascalVOC jpeg files.\n",
    "To align with dataset we are using in INM705, read the .txt files that I have created with the files we are using in the labs.\n",
    "We can see that the 2012 data (which I think is only train and val) has ~17k images, whereas INM705 data has 2913 images."
   ]
  },
  {
   "cell_type": "code",
   "execution_count": 40,
   "id": "61884573-355e-4217-a8d5-7e88d5a7d53f",
   "metadata": {
    "tags": []
   },
   "outputs": [
    {
     "data": {
      "text/plain": [
       "(17126, 2000, 413, 500)"
      ]
     },
     "execution_count": 40,
     "metadata": {},
     "output_type": "execute_result"
    }
   ],
   "source": [
    "imgs = sorted(Path('../data/PascalVOC/VOCdevkit/VOC2012/JPEGImages').glob('*'))\n",
    "\n",
    "folder = Path('../data/PascalVOC/VOCdevkit/VOC2012/INM705_train_test_split')\n",
    "train = (folder/'train_files.txt').read_text().split('\\n')\n",
    "test = (folder/'test_files.txt').read_text().split('\\n')\n",
    "val = (folder/'val_files.txt').read_text().split('\\n')\n",
    "\n",
    "len(imgs), len(train), len(test), len(val)"
   ]
  },
  {
   "cell_type": "markdown",
   "id": "76bcb3fc-ee43-45ce-97c5-67336743c916",
   "metadata": {},
   "source": [
    "Move image files from the original '../VOC2012/JPEGImages' to the `train_data` `test_data` etc folders"
   ]
  },
  {
   "cell_type": "code",
   "execution_count": 48,
   "id": "731d0546-050e-4b66-a406-f16d5b8c6cfa",
   "metadata": {},
   "outputs": [],
   "source": [
    "for im in imgs:\n",
    "    if im.name in train:\n",
    "        im.replace(im.parents[1]/'INM705_data'/'train_data'/im.name)\n",
    "    if im.name in test:\n",
    "        im.replace(im.parents[1]/'INM705_data'/'test_data'/im.name)\n",
    "    if im.name in val:\n",
    "        im.replace(im.parents[1]/'INM705_data'/'val_data'/im.name)"
   ]
  },
  {
   "cell_type": "markdown",
   "id": "b906ef84-d074-41a1-863e-528b0b004dd4",
   "metadata": {},
   "source": [
    "Check we have as many images as we are expecting"
   ]
  },
  {
   "cell_type": "code",
   "execution_count": 50,
   "id": "fa3b00d2-c764-47b4-8222-3b65f2ed2935",
   "metadata": {},
   "outputs": [
    {
     "name": "stdout",
     "output_type": "stream",
     "text": [
      "train_data has 2000 files\n",
      "test_data has 413 files\n",
      "val_data has 500 files\n"
     ]
    }
   ],
   "source": [
    "for fol in ['train_data', 'test_data', 'val_data']:\n",
    "    p = Path('../data/PascalVOC/VOCdevkit/VOC2012')/'INM705_data'/fol\n",
    "    print('{} has {} files'.format(fol, len(sorted(p.glob('*')))))"
   ]
  },
  {
   "cell_type": "code",
   "execution_count": null,
   "id": "714119b6-628a-4a06-bd45-32344b342203",
   "metadata": {},
   "outputs": [],
   "source": []
  }
 ],
 "metadata": {
  "kernelspec": {
   "display_name": "Python 3 (ipykernel)",
   "language": "python",
   "name": "python3"
  },
  "language_info": {
   "codemirror_mode": {
    "name": "ipython",
    "version": 3
   },
   "file_extension": ".py",
   "mimetype": "text/x-python",
   "name": "python",
   "nbconvert_exporter": "python",
   "pygments_lexer": "ipython3",
   "version": "3.9.10"
  }
 },
 "nbformat": 4,
 "nbformat_minor": 5
}
